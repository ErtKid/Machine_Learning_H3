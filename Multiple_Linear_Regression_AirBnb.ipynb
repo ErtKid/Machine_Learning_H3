{
  "nbformat": 4,
  "nbformat_minor": 0,
  "metadata": {
    "colab": {
      "provenance": [],
      "toc_visible": true,
      "authorship_tag": "ABX9TyM6itDQwvfsvBNq6Kba2OAd",
      "include_colab_link": true
    },
    "kernelspec": {
      "name": "python3",
      "display_name": "Python 3"
    },
    "language_info": {
      "name": "python"
    }
  },
  "cells": [
    {
      "cell_type": "markdown",
      "metadata": {
        "id": "view-in-github",
        "colab_type": "text"
      },
      "source": [
        "<a href=\"https://colab.research.google.com/github/ErtKid/Machine_Learning_H3/blob/main/Multiple_Linear_Regression_AirBnb.ipynb\" target=\"_parent\"><img src=\"https://colab.research.google.com/assets/colab-badge.svg\" alt=\"Open In Colab\"/></a>"
      ]
    },
    {
      "cell_type": "code",
      "execution_count": 14,
      "metadata": {
        "id": "Usft-0EcJTE5"
      },
      "outputs": [],
      "source": [
        "#importer vos librairies\n",
        "import numpy as np\n",
        "import pandas as pd\n",
        "import matplotlib.pyplot as plt\n",
        "%matplotlib inline\n",
        "from sklearn import linear_model #modèle linéaire\n",
        "from sklearn.metrics import mean_squared_error, r2_score #métriques d'évaluation"
      ]
    },
    {
      "cell_type": "code",
      "source": [
        "#charger les données\n",
        "#price_availability.csv\n",
        "#listings_final.csv\n",
        "#attention l'individu 589 n'a pas de prix !!\n",
        "prices = pd.read_csv(\"data_airbnb/price_availability.csv\", sep=\";\")\n",
        "listings = pd.read_csv(\"data_airbnb/listings_final.csv\", sep=\";\")\n",
        "listings = listings.drop(589)\n",
        "print(\"Data loaded.\")"
      ],
      "metadata": {
        "colab": {
          "base_uri": "https://localhost:8080/"
        },
        "id": "LoWDw6yrXjy5",
        "outputId": "2d580458-63e2-4ae2-f254-f0ade2901fdd"
      },
      "execution_count": 15,
      "outputs": [
        {
          "output_type": "stream",
          "name": "stdout",
          "text": [
            "Data loaded.\n"
          ]
        }
      ]
    },
    {
      "cell_type": "code",
      "source": [
        "#define our input variable X and output variable Y\n",
        "X = listings.loc[:, [\"listing_id\", \"person_capacity\", \"bedrooms\", \"bathrooms\" ]]\n",
        "Y = []"
      ],
      "metadata": {
        "id": "xVcYJtRLYqNd"
      },
      "execution_count": 16,
      "outputs": []
    },
    {
      "cell_type": "code",
      "source": [
        "#build the price vector\n",
        "for i, row in X.iterrows():\n",
        "    y = 0\n",
        "    ID = int(row[\"listing_id\"])\n",
        "    subset = prices[prices[\"listing_id\"] == ID]\n",
        "    y = subset[\"local_price\"].mean()\n",
        "    Y.append(y)\n",
        "\n",
        "#convert into numpy array\n",
        "Y = np.asarray(Y)"
      ],
      "metadata": {
        "id": "-OjV6bKyYsw6"
      },
      "execution_count": 17,
      "outputs": []
    },
    {
      "cell_type": "code",
      "source": [
        "from sklearn.model_selection import train_test_split\n",
        "X_train, X_test, y_train, y_test = train_test_split(X, Y, test_size=0.30, random_state=42)\n",
        "X_train.shape, y_train.shape, X_test.shape, y_test.shape"
      ],
      "metadata": {
        "colab": {
          "base_uri": "https://localhost:8080/"
        },
        "id": "dh9NIxfeYyPH",
        "outputId": "9cf92c78-cfc2-4658-e491-d3e1749b704a"
      },
      "execution_count": 18,
      "outputs": [
        {
          "output_type": "execute_result",
          "data": {
            "text/plain": [
              "((699, 4), (699,), (300, 4), (300,))"
            ]
          },
          "metadata": {},
          "execution_count": 18
        }
      ]
    },
    {
      "cell_type": "code",
      "source": [
        "regr = linear_model.LinearRegression()\n",
        "regr.fit(X_train.values, y_train)"
      ],
      "metadata": {
        "colab": {
          "base_uri": "https://localhost:8080/",
          "height": 75
        },
        "id": "lM0sHfOVY294",
        "outputId": "300035db-2c7d-407e-e62c-5eb654d16f2d"
      },
      "execution_count": 19,
      "outputs": [
        {
          "output_type": "execute_result",
          "data": {
            "text/plain": [
              "LinearRegression()"
            ],
            "text/html": [
              "<style>#sk-container-id-1 {color: black;background-color: white;}#sk-container-id-1 pre{padding: 0;}#sk-container-id-1 div.sk-toggleable {background-color: white;}#sk-container-id-1 label.sk-toggleable__label {cursor: pointer;display: block;width: 100%;margin-bottom: 0;padding: 0.3em;box-sizing: border-box;text-align: center;}#sk-container-id-1 label.sk-toggleable__label-arrow:before {content: \"▸\";float: left;margin-right: 0.25em;color: #696969;}#sk-container-id-1 label.sk-toggleable__label-arrow:hover:before {color: black;}#sk-container-id-1 div.sk-estimator:hover label.sk-toggleable__label-arrow:before {color: black;}#sk-container-id-1 div.sk-toggleable__content {max-height: 0;max-width: 0;overflow: hidden;text-align: left;background-color: #f0f8ff;}#sk-container-id-1 div.sk-toggleable__content pre {margin: 0.2em;color: black;border-radius: 0.25em;background-color: #f0f8ff;}#sk-container-id-1 input.sk-toggleable__control:checked~div.sk-toggleable__content {max-height: 200px;max-width: 100%;overflow: auto;}#sk-container-id-1 input.sk-toggleable__control:checked~label.sk-toggleable__label-arrow:before {content: \"▾\";}#sk-container-id-1 div.sk-estimator input.sk-toggleable__control:checked~label.sk-toggleable__label {background-color: #d4ebff;}#sk-container-id-1 div.sk-label input.sk-toggleable__control:checked~label.sk-toggleable__label {background-color: #d4ebff;}#sk-container-id-1 input.sk-hidden--visually {border: 0;clip: rect(1px 1px 1px 1px);clip: rect(1px, 1px, 1px, 1px);height: 1px;margin: -1px;overflow: hidden;padding: 0;position: absolute;width: 1px;}#sk-container-id-1 div.sk-estimator {font-family: monospace;background-color: #f0f8ff;border: 1px dotted black;border-radius: 0.25em;box-sizing: border-box;margin-bottom: 0.5em;}#sk-container-id-1 div.sk-estimator:hover {background-color: #d4ebff;}#sk-container-id-1 div.sk-parallel-item::after {content: \"\";width: 100%;border-bottom: 1px solid gray;flex-grow: 1;}#sk-container-id-1 div.sk-label:hover label.sk-toggleable__label {background-color: #d4ebff;}#sk-container-id-1 div.sk-serial::before {content: \"\";position: absolute;border-left: 1px solid gray;box-sizing: border-box;top: 0;bottom: 0;left: 50%;z-index: 0;}#sk-container-id-1 div.sk-serial {display: flex;flex-direction: column;align-items: center;background-color: white;padding-right: 0.2em;padding-left: 0.2em;position: relative;}#sk-container-id-1 div.sk-item {position: relative;z-index: 1;}#sk-container-id-1 div.sk-parallel {display: flex;align-items: stretch;justify-content: center;background-color: white;position: relative;}#sk-container-id-1 div.sk-item::before, #sk-container-id-1 div.sk-parallel-item::before {content: \"\";position: absolute;border-left: 1px solid gray;box-sizing: border-box;top: 0;bottom: 0;left: 50%;z-index: -1;}#sk-container-id-1 div.sk-parallel-item {display: flex;flex-direction: column;z-index: 1;position: relative;background-color: white;}#sk-container-id-1 div.sk-parallel-item:first-child::after {align-self: flex-end;width: 50%;}#sk-container-id-1 div.sk-parallel-item:last-child::after {align-self: flex-start;width: 50%;}#sk-container-id-1 div.sk-parallel-item:only-child::after {width: 0;}#sk-container-id-1 div.sk-dashed-wrapped {border: 1px dashed gray;margin: 0 0.4em 0.5em 0.4em;box-sizing: border-box;padding-bottom: 0.4em;background-color: white;}#sk-container-id-1 div.sk-label label {font-family: monospace;font-weight: bold;display: inline-block;line-height: 1.2em;}#sk-container-id-1 div.sk-label-container {text-align: center;}#sk-container-id-1 div.sk-container {/* jupyter's `normalize.less` sets `[hidden] { display: none; }` but bootstrap.min.css set `[hidden] { display: none !important; }` so we also need the `!important` here to be able to override the default hidden behavior on the sphinx rendered scikit-learn.org. See: https://github.com/scikit-learn/scikit-learn/issues/21755 */display: inline-block !important;position: relative;}#sk-container-id-1 div.sk-text-repr-fallback {display: none;}</style><div id=\"sk-container-id-1\" class=\"sk-top-container\"><div class=\"sk-text-repr-fallback\"><pre>LinearRegression()</pre><b>In a Jupyter environment, please rerun this cell to show the HTML representation or trust the notebook. <br />On GitHub, the HTML representation is unable to render, please try loading this page with nbviewer.org.</b></div><div class=\"sk-container\" hidden><div class=\"sk-item\"><div class=\"sk-estimator sk-toggleable\"><input class=\"sk-toggleable__control sk-hidden--visually\" id=\"sk-estimator-id-1\" type=\"checkbox\" checked><label for=\"sk-estimator-id-1\" class=\"sk-toggleable__label sk-toggleable__label-arrow\">LinearRegression</label><div class=\"sk-toggleable__content\"><pre>LinearRegression()</pre></div></div></div></div></div>"
            ]
          },
          "metadata": {},
          "execution_count": 19
        }
      ]
    },
    {
      "cell_type": "code",
      "source": [
        "#what do you think about the results ?\n",
        "print('Coefficients beta_j : \\n', regr.coef_)\n",
        "print('Coefficients INTERCEPT beta_0 : \\n', regr.intercept_)"
      ],
      "metadata": {
        "colab": {
          "base_uri": "https://localhost:8080/"
        },
        "id": "j4uPz0d4egKy",
        "outputId": "61df573c-4e86-4c3f-8b42-3e5b69c4b81a"
      },
      "execution_count": 20,
      "outputs": [
        {
          "output_type": "stream",
          "name": "stdout",
          "text": [
            "Coefficients beta_j : \n",
            " [2.47834609e-06 3.23451085e+01 1.43887639e+01 7.75318453e+01]\n",
            "Coefficients INTERCEPT beta_0 : \n",
            " -79.79953133672868\n"
          ]
        }
      ]
    },
    {
      "cell_type": "code",
      "source": [
        "X_test"
      ],
      "metadata": {
        "colab": {
          "base_uri": "https://localhost:8080/",
          "height": 424
        },
        "id": "l5SpC5Kzeyq2",
        "outputId": "96f75b17-baa0-437f-bae9-8ffd723c293b"
      },
      "execution_count": 21,
      "outputs": [
        {
          "output_type": "execute_result",
          "data": {
            "text/plain": [
              "     listing_id  person_capacity  bedrooms  bathrooms\n",
              "453    14992207                2         1        1.0\n",
              "794    24564156                2         1        1.0\n",
              "209     3452604                2         0        1.0\n",
              "309     8243908                1         1        1.0\n",
              "741    23233753                5         2        1.0\n",
              "..          ...              ...       ...        ...\n",
              "314     8525469                8         3        2.5\n",
              "404    12976143                7         3        2.0\n",
              "7       5662637                2         1        1.0\n",
              "155     2158913                2         0        1.0\n",
              "810    24766158                9         4        3.0\n",
              "\n",
              "[300 rows x 4 columns]"
            ],
            "text/html": [
              "\n",
              "  <div id=\"df-65c5821c-bf62-4052-84fe-b51b895b4f87\" class=\"colab-df-container\">\n",
              "    <div>\n",
              "<style scoped>\n",
              "    .dataframe tbody tr th:only-of-type {\n",
              "        vertical-align: middle;\n",
              "    }\n",
              "\n",
              "    .dataframe tbody tr th {\n",
              "        vertical-align: top;\n",
              "    }\n",
              "\n",
              "    .dataframe thead th {\n",
              "        text-align: right;\n",
              "    }\n",
              "</style>\n",
              "<table border=\"1\" class=\"dataframe\">\n",
              "  <thead>\n",
              "    <tr style=\"text-align: right;\">\n",
              "      <th></th>\n",
              "      <th>listing_id</th>\n",
              "      <th>person_capacity</th>\n",
              "      <th>bedrooms</th>\n",
              "      <th>bathrooms</th>\n",
              "    </tr>\n",
              "  </thead>\n",
              "  <tbody>\n",
              "    <tr>\n",
              "      <th>453</th>\n",
              "      <td>14992207</td>\n",
              "      <td>2</td>\n",
              "      <td>1</td>\n",
              "      <td>1.0</td>\n",
              "    </tr>\n",
              "    <tr>\n",
              "      <th>794</th>\n",
              "      <td>24564156</td>\n",
              "      <td>2</td>\n",
              "      <td>1</td>\n",
              "      <td>1.0</td>\n",
              "    </tr>\n",
              "    <tr>\n",
              "      <th>209</th>\n",
              "      <td>3452604</td>\n",
              "      <td>2</td>\n",
              "      <td>0</td>\n",
              "      <td>1.0</td>\n",
              "    </tr>\n",
              "    <tr>\n",
              "      <th>309</th>\n",
              "      <td>8243908</td>\n",
              "      <td>1</td>\n",
              "      <td>1</td>\n",
              "      <td>1.0</td>\n",
              "    </tr>\n",
              "    <tr>\n",
              "      <th>741</th>\n",
              "      <td>23233753</td>\n",
              "      <td>5</td>\n",
              "      <td>2</td>\n",
              "      <td>1.0</td>\n",
              "    </tr>\n",
              "    <tr>\n",
              "      <th>...</th>\n",
              "      <td>...</td>\n",
              "      <td>...</td>\n",
              "      <td>...</td>\n",
              "      <td>...</td>\n",
              "    </tr>\n",
              "    <tr>\n",
              "      <th>314</th>\n",
              "      <td>8525469</td>\n",
              "      <td>8</td>\n",
              "      <td>3</td>\n",
              "      <td>2.5</td>\n",
              "    </tr>\n",
              "    <tr>\n",
              "      <th>404</th>\n",
              "      <td>12976143</td>\n",
              "      <td>7</td>\n",
              "      <td>3</td>\n",
              "      <td>2.0</td>\n",
              "    </tr>\n",
              "    <tr>\n",
              "      <th>7</th>\n",
              "      <td>5662637</td>\n",
              "      <td>2</td>\n",
              "      <td>1</td>\n",
              "      <td>1.0</td>\n",
              "    </tr>\n",
              "    <tr>\n",
              "      <th>155</th>\n",
              "      <td>2158913</td>\n",
              "      <td>2</td>\n",
              "      <td>0</td>\n",
              "      <td>1.0</td>\n",
              "    </tr>\n",
              "    <tr>\n",
              "      <th>810</th>\n",
              "      <td>24766158</td>\n",
              "      <td>9</td>\n",
              "      <td>4</td>\n",
              "      <td>3.0</td>\n",
              "    </tr>\n",
              "  </tbody>\n",
              "</table>\n",
              "<p>300 rows × 4 columns</p>\n",
              "</div>\n",
              "    <div class=\"colab-df-buttons\">\n",
              "\n",
              "  <div class=\"colab-df-container\">\n",
              "    <button class=\"colab-df-convert\" onclick=\"convertToInteractive('df-65c5821c-bf62-4052-84fe-b51b895b4f87')\"\n",
              "            title=\"Convert this dataframe to an interactive table.\"\n",
              "            style=\"display:none;\">\n",
              "\n",
              "  <svg xmlns=\"http://www.w3.org/2000/svg\" height=\"24px\" viewBox=\"0 -960 960 960\">\n",
              "    <path d=\"M120-120v-720h720v720H120Zm60-500h600v-160H180v160Zm220 220h160v-160H400v160Zm0 220h160v-160H400v160ZM180-400h160v-160H180v160Zm440 0h160v-160H620v160ZM180-180h160v-160H180v160Zm440 0h160v-160H620v160Z\"/>\n",
              "  </svg>\n",
              "    </button>\n",
              "\n",
              "  <style>\n",
              "    .colab-df-container {\n",
              "      display:flex;\n",
              "      gap: 12px;\n",
              "    }\n",
              "\n",
              "    .colab-df-convert {\n",
              "      background-color: #E8F0FE;\n",
              "      border: none;\n",
              "      border-radius: 50%;\n",
              "      cursor: pointer;\n",
              "      display: none;\n",
              "      fill: #1967D2;\n",
              "      height: 32px;\n",
              "      padding: 0 0 0 0;\n",
              "      width: 32px;\n",
              "    }\n",
              "\n",
              "    .colab-df-convert:hover {\n",
              "      background-color: #E2EBFA;\n",
              "      box-shadow: 0px 1px 2px rgba(60, 64, 67, 0.3), 0px 1px 3px 1px rgba(60, 64, 67, 0.15);\n",
              "      fill: #174EA6;\n",
              "    }\n",
              "\n",
              "    .colab-df-buttons div {\n",
              "      margin-bottom: 4px;\n",
              "    }\n",
              "\n",
              "    [theme=dark] .colab-df-convert {\n",
              "      background-color: #3B4455;\n",
              "      fill: #D2E3FC;\n",
              "    }\n",
              "\n",
              "    [theme=dark] .colab-df-convert:hover {\n",
              "      background-color: #434B5C;\n",
              "      box-shadow: 0px 1px 3px 1px rgba(0, 0, 0, 0.15);\n",
              "      filter: drop-shadow(0px 1px 2px rgba(0, 0, 0, 0.3));\n",
              "      fill: #FFFFFF;\n",
              "    }\n",
              "  </style>\n",
              "\n",
              "    <script>\n",
              "      const buttonEl =\n",
              "        document.querySelector('#df-65c5821c-bf62-4052-84fe-b51b895b4f87 button.colab-df-convert');\n",
              "      buttonEl.style.display =\n",
              "        google.colab.kernel.accessAllowed ? 'block' : 'none';\n",
              "\n",
              "      async function convertToInteractive(key) {\n",
              "        const element = document.querySelector('#df-65c5821c-bf62-4052-84fe-b51b895b4f87');\n",
              "        const dataTable =\n",
              "          await google.colab.kernel.invokeFunction('convertToInteractive',\n",
              "                                                    [key], {});\n",
              "        if (!dataTable) return;\n",
              "\n",
              "        const docLinkHtml = 'Like what you see? Visit the ' +\n",
              "          '<a target=\"_blank\" href=https://colab.research.google.com/notebooks/data_table.ipynb>data table notebook</a>'\n",
              "          + ' to learn more about interactive tables.';\n",
              "        element.innerHTML = '';\n",
              "        dataTable['output_type'] = 'display_data';\n",
              "        await google.colab.output.renderOutput(dataTable, element);\n",
              "        const docLink = document.createElement('div');\n",
              "        docLink.innerHTML = docLinkHtml;\n",
              "        element.appendChild(docLink);\n",
              "      }\n",
              "    </script>\n",
              "  </div>\n",
              "\n",
              "\n",
              "<div id=\"df-3badce3e-caa1-49fd-85b8-43141c08a78f\">\n",
              "  <button class=\"colab-df-quickchart\" onclick=\"quickchart('df-3badce3e-caa1-49fd-85b8-43141c08a78f')\"\n",
              "            title=\"Suggest charts.\"\n",
              "            style=\"display:none;\">\n",
              "\n",
              "<svg xmlns=\"http://www.w3.org/2000/svg\" height=\"24px\"viewBox=\"0 0 24 24\"\n",
              "     width=\"24px\">\n",
              "    <g>\n",
              "        <path d=\"M19 3H5c-1.1 0-2 .9-2 2v14c0 1.1.9 2 2 2h14c1.1 0 2-.9 2-2V5c0-1.1-.9-2-2-2zM9 17H7v-7h2v7zm4 0h-2V7h2v10zm4 0h-2v-4h2v4z\"/>\n",
              "    </g>\n",
              "</svg>\n",
              "  </button>\n",
              "\n",
              "<style>\n",
              "  .colab-df-quickchart {\n",
              "    background-color: #E8F0FE;\n",
              "    border: none;\n",
              "    border-radius: 50%;\n",
              "    cursor: pointer;\n",
              "    display: none;\n",
              "    fill: #1967D2;\n",
              "    height: 32px;\n",
              "    padding: 0 0 0 0;\n",
              "    width: 32px;\n",
              "  }\n",
              "\n",
              "  .colab-df-quickchart:hover {\n",
              "    background-color: #E2EBFA;\n",
              "    box-shadow: 0px 1px 2px rgba(60, 64, 67, 0.3), 0px 1px 3px 1px rgba(60, 64, 67, 0.15);\n",
              "    fill: #174EA6;\n",
              "  }\n",
              "\n",
              "  [theme=dark] .colab-df-quickchart {\n",
              "    background-color: #3B4455;\n",
              "    fill: #D2E3FC;\n",
              "  }\n",
              "\n",
              "  [theme=dark] .colab-df-quickchart:hover {\n",
              "    background-color: #434B5C;\n",
              "    box-shadow: 0px 1px 3px 1px rgba(0, 0, 0, 0.15);\n",
              "    filter: drop-shadow(0px 1px 2px rgba(0, 0, 0, 0.3));\n",
              "    fill: #FFFFFF;\n",
              "  }\n",
              "</style>\n",
              "\n",
              "  <script>\n",
              "    async function quickchart(key) {\n",
              "      const charts = await google.colab.kernel.invokeFunction(\n",
              "          'suggestCharts', [key], {});\n",
              "    }\n",
              "    (() => {\n",
              "      let quickchartButtonEl =\n",
              "        document.querySelector('#df-3badce3e-caa1-49fd-85b8-43141c08a78f button');\n",
              "      quickchartButtonEl.style.display =\n",
              "        google.colab.kernel.accessAllowed ? 'block' : 'none';\n",
              "    })();\n",
              "  </script>\n",
              "</div>\n",
              "    </div>\n",
              "  </div>\n"
            ]
          },
          "metadata": {},
          "execution_count": 21
        }
      ]
    },
    {
      "cell_type": "code",
      "source": [
        "y_test"
      ],
      "metadata": {
        "colab": {
          "base_uri": "https://localhost:8080/"
        },
        "id": "WD4_aS6de5GL",
        "outputId": "6ba0c480-212a-46dd-c107-e0a3c0731dca"
      },
      "execution_count": 22,
      "outputs": [
        {
          "output_type": "execute_result",
          "data": {
            "text/plain": [
              "array([  79.81038961,  125.        ,   95.45333333,   29.        ,\n",
              "         82.5883905 ,  123.63829787,  360.        ,  130.        ,\n",
              "        450.        ,  164.845953  ,   68.35142119,  294.18181818,\n",
              "         68.08247423,   51.01595745,  170.30548303,   80.24479167,\n",
              "         73.78249337,  195.        ,  375.0268714 ,  834.96124031,\n",
              "        850.65633075,   89.        ,  650.        ,   63.38219895,\n",
              "         83.        ,  190.        ,  202.23514212,   96.6056701 ,\n",
              "        108.95026178,   50.        ,   28.31937173,  195.        ,\n",
              "         93.70234987,  474.14258189,  450.        ,  517.0984456 ,\n",
              "         83.37730871,  395.        ,   79.        ,  129.17493473,\n",
              "        135.11227154,   51.52785146,  117.22572178,  260.        ,\n",
              "        618.        ,   42.        ,  180.        ,  160.        ,\n",
              "        179.67315175,   40.0025641 ,   80.984375  ,  116.09947644,\n",
              "        429.28645833,   76.06896552,  219.5037594 ,  459.71391076,\n",
              "        183.0848329 ,  204.39276486,  161.5503876 ,  131.        ,\n",
              "         44.16569201,  156.19693095,  288.68421053,  219.08349515,\n",
              "         60.05263158,  794.54663212,   86.13246753,   42.61658031,\n",
              "        290.        ,  350.        ,  191.34883721,  220.        ,\n",
              "        115.        ,   96.05714286,  180.        ,  329.36832061,\n",
              "         60.74093264,  241.3003876 ,   59.        ,  119.02631579,\n",
              "        234.89460154,   68.55844156,  300.78640777,  175.        ,\n",
              "         21.        ,   53.        ,  152.67792208,  113.58333333,\n",
              "        152.56701031,  249.06493506,  240.37764933,   43.01578947,\n",
              "        197.68766404,   42.10471204,   59.53439153,  117.        ,\n",
              "         94.        ,  250.        ,  145.16966581,  450.        ,\n",
              "         86.77922078,   78.        ,  425.        ,   33.03645833,\n",
              "        177.4151436 ,  242.98457584,   29.        ,  307.01547389,\n",
              "         53.53002611,  126.62239583,  182.21875   ,  141.06994819,\n",
              "        240.        ,   36.        ,  149.        ,   74.87743191,\n",
              "         30.        ,  483.32432432,  399.47683398,   74.10810811,\n",
              "        350.        ,  403.08070866,  146.        ,   74.43410853,\n",
              "        203.21025641,  143.51181102,   92.        ,   33.4296875 ,\n",
              "        494.36538462,   75.37105263,  156.14038462,   38.50773196,\n",
              "        353.        ,  233.69170984,   81.        ,  962.54025974,\n",
              "         36.58961039,   92.        ,   90.09819121,  124.45052083,\n",
              "        146.57519789,   53.50129199,   95.484375  ,  140.16494845,\n",
              "        112.        ,  210.02362205,  180.        ,  188.57253886,\n",
              "        328.57699805,   94.67783505,  105.        ,  114.75773196,\n",
              "        152.53299492,  111.81443299,  311.54580153,  180.95287958,\n",
              "        165.        ,   42.        , 1200.        ,  149.        ,\n",
              "        297.        ,  157.        ,  434.9132948 ,   85.40682415,\n",
              "         81.3110687 ,  104.        ,   63.        ,  163.60103627,\n",
              "        206.14690722,  132.18897638,  180.        ,  311.62934363,\n",
              "         88.        ,   42.40519481,  210.35917313,   52.16410256,\n",
              "        253.96850394,  109.        ,  158.8       ,  104.78947368,\n",
              "        145.        ,   29.        ,  170.        ,   58.        ,\n",
              "         63.14397906,  115.        ,  195.72890026,  261.86046512,\n",
              "        381.96564885,  210.        ,   28.4947644 ,  144.42159383,\n",
              "       1500.        ,   89.        ,  203.89312977,   43.84615385,\n",
              "        284.35356201,   99.        ,  296.        ,   65.86910995,\n",
              "         24.        ,  181.04986877,  170.64935065,  251.04639175,\n",
              "         72.39793282,   33.        ,  218.96373057,  145.        ,\n",
              "         48.        ,  390.16184971,  119.        ,   52.        ,\n",
              "        109.71611253,  222.8042328 ,  179.21336761,   39.        ,\n",
              "         49.23697917,   97.18372703,   73.07731959,  347.67015707,\n",
              "         62.94010417,  232.38921002,   57.        ,   83.34563107,\n",
              "        237.90052356,   40.        ,  299.        ,  248.84971098,\n",
              "        207.69487179,  230.        ,  151.07915567,  113.53383459,\n",
              "        203.41755319,  240.99197861,  108.        ,   98.35695538,\n",
              "        165.        ,  250.        ,  331.59615385,  102.38157895,\n",
              "        196.98455598,   86.        ,   38.51171875,  105.71849866,\n",
              "        220.        ,   72.64583333,  109.        ,  355.52083333,\n",
              "        135.85677083,  238.25918762,  153.55844156,   99.        ,\n",
              "         59.16020672,  177.52645503,   49.        ,  220.        ,\n",
              "        170.        ,   54.10433071,   80.56363636,   61.62105263,\n",
              "        111.86458333,  250.        ,   79.        ,  121.50259067,\n",
              "        148.08051948,   94.74472169,  357.7046332 ,   90.21052632,\n",
              "        158.        ,   89.43307087,  252.83854167,  191.13520408,\n",
              "        400.39787798,  221.99738903,  169.        ,   48.39030612,\n",
              "         40.        ,  172.67822736,   93.35248042,   61.        ,\n",
              "        139.17105263,   68.05526316,   79.10344828,   88.65066667,\n",
              "        330.46875   ,  188.3203125 ,  101.12631579,  109.        ,\n",
              "        124.16103896,  251.88824663,   69.        ,   47.        ,\n",
              "        221.83333333,  170.        ,   55.96938776,  718.09278351,\n",
              "        517.99618321,  213.32460733,   79.        , 1300.        ])"
            ]
          },
          "metadata": {},
          "execution_count": 22
        }
      ]
    }
  ]
}