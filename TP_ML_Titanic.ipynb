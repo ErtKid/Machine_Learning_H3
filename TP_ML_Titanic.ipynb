{
  "nbformat": 4,
  "nbformat_minor": 0,
  "metadata": {
    "colab": {
      "provenance": [],
      "authorship_tag": "ABX9TyMi2EEjKHn9MP93JOBWHAbM",
      "include_colab_link": true
    },
    "kernelspec": {
      "name": "python3",
      "display_name": "Python 3"
    },
    "language_info": {
      "name": "python"
    }
  },
  "cells": [
    {
      "cell_type": "markdown",
      "metadata": {
        "id": "view-in-github",
        "colab_type": "text"
      },
      "source": [
        "<a href=\"https://colab.research.google.com/github/ErtKid/Machine_Learning_H3/blob/main/TP_ML_Titanic.ipynb\" target=\"_parent\"><img src=\"https://colab.research.google.com/assets/colab-badge.svg\" alt=\"Open In Colab\"/></a>"
      ]
    },
    {
      "cell_type": "markdown",
      "source": [
        "# **Étape 1: Nettoyage des données**\n",
        "\n",
        "**1.1 Imputer les valeurs manquantes**\n",
        "\n",
        "Pour la colonne \"Age\", nous allons remplacer les valeurs manquantes par la médiane. Pour \"Embarked\", nous utiliserons le port le plus fréquent, qui est \"S\". Nous allons ignorer la colonne \"Cabin\" car elle a trop de valeurs manquantes."
      ],
      "metadata": {
        "id": "BhqA_50si5zR"
      }
    },
    {
      "cell_type": "code",
      "execution_count": null,
      "metadata": {
        "id": "3kcGXGqYi3YX"
      },
      "outputs": [],
      "source": [
        "# Importer la bibliothèque pandas\n",
        "import pandas as pd\n",
        "\n",
        "# Charger les données\n",
        "titanic_df = pd.read_csv('Dataset_Titanic/train.csv')\n",
        "\n",
        "# Imputer les valeurs manquantes pour \"Age\" avec la médiane\n",
        "titanic_df['Age'].fillna(titanic_df['Age'].median(), inplace=True)\n",
        "\n",
        "# Imputer les valeurs manquantes pour \"Embarked\" avec 'S'\n",
        "titanic_df['Embarked'].fillna('S', inplace=True)\n",
        "\n",
        "# Supprimer la colonne \"Cabin\"\n",
        "titanic_df.drop('Cabin', axis=1, inplace=True)\n"
      ]
    },
    {
      "cell_type": "markdown",
      "source": [
        "**1.2 Ingénierie des fonctionnalités**\n",
        "\n",
        "Nous allons créer une nouvelle variable \"TravelAlone\" pour indiquer si le passager voyage seul ou avec sa famille. Ensuite, nous allons encoder les variables catégorielles.\n"
      ],
      "metadata": {
        "id": "HdEEyebPjvcQ"
      }
    },
    {
      "cell_type": "code",
      "source": [
        "# Créer la variable \"TravelAlone\"\n",
        "titanic_df['TravelAlone'] = (titanic_df['SibSp'] + titanic_df['Parch'] == 0).astype(int)\n",
        "\n",
        "# Encoder les variables catégorielles\n",
        "titanic_encoded = pd.get_dummies(titanic_df, columns=['Pclass', 'Embarked', 'Sex'], drop_first=True)\n"
      ],
      "metadata": {
        "id": "n-jdB3xRjz7R"
      },
      "execution_count": null,
      "outputs": []
    },
    {
      "cell_type": "markdown",
      "source": [
        "# **Étape 2: Sélection des caractéristiques**\n",
        "\n",
        "Nous allons utiliser RFE (Recursive Feature Elimination) pour sélectionner les caractéristiques les plus importantes."
      ],
      "metadata": {
        "id": "Srmt_DkhkMFG"
      }
    },
    {
      "cell_type": "code",
      "source": [
        "# Importer les bibliothèques nécessaires\n",
        "from sklearn.feature_selection import RFE\n",
        "from sklearn.linear_model import LogisticRegression\n",
        "\n",
        "# Définir les variables indépendantes et la variable cible\n",
        "X = titanic_encoded.drop(['Survived', 'Name', 'Ticket', 'PassengerId'], axis=1)\n",
        "y = titanic_encoded['Survived']\n",
        "\n",
        "# Initialiser le modèle de régression logistique\n",
        "model = LogisticRegression(max_iter=1000)\n",
        "\n",
        "\n",
        "# Appliquer RFE\n",
        "rfe = RFE(estimator=model, n_features_to_select=8)\n",
        "fit = rfe.fit(X, y)\n",
        "\n",
        "# Afficher les caractéristiques sélectionnées\n",
        "print(\"Caractéristiques sélectionnées:\", X.columns[fit.support_])\n"
      ],
      "metadata": {
        "colab": {
          "base_uri": "https://localhost:8080/"
        },
        "id": "LV6F_ZpxkLJ3",
        "outputId": "19df0ec9-13bf-4670-9fb1-95da04f25303"
      },
      "execution_count": null,
      "outputs": [
        {
          "output_type": "stream",
          "name": "stdout",
          "text": [
            "Caractéristiques sélectionnées: Index(['Age', 'SibSp', 'Parch', 'TravelAlone', 'Pclass_2', 'Pclass_3',\n",
            "       'Embarked_S', 'Sex_male'],\n",
            "      dtype='object')\n"
          ]
        }
      ]
    },
    {
      "cell_type": "markdown",
      "source": [
        "# **Étape 3: Préparation et évaluation du modèle**\n",
        "\n",
        "Nous allons maintenant préparer notre modèle en utilisant la régression logistique et évaluer ses performances."
      ],
      "metadata": {
        "id": "_YEf6Tj8lfOz"
      }
    },
    {
      "cell_type": "code",
      "source": [
        "# Importer les bibliothèques nécessaires\n",
        "from sklearn.model_selection import train_test_split\n",
        "from sklearn.metrics import accuracy_score, log_loss\n",
        "\n",
        "# Diviser les données en ensemble d'entraînement et de test\n",
        "X_train, X_test, y_train, y_test = train_test_split(X, y, test_size=0.2, random_state=42)\n",
        "\n",
        "# Entraîner le modèle\n",
        "model.fit(X_train, y_train)\n",
        "\n",
        "# Faire des prédictions\n",
        "y_pred = model.predict(X_test)\n",
        "\n",
        "# Évaluer le modèle\n",
        "accuracy = accuracy_score(y_test, y_pred)\n",
        "logloss = log_loss(y_test, y_pred)\n",
        "\n",
        "print(\"Précision du modèle:\", accuracy)\n",
        "print(\"Log Loss:\", logloss)\n"
      ],
      "metadata": {
        "id": "h_0TBqW-lhyU",
        "outputId": "aee12832-73f2-4eb7-adc8-b680fb091875",
        "colab": {
          "base_uri": "https://localhost:8080/"
        }
      },
      "execution_count": null,
      "outputs": [
        {
          "output_type": "stream",
          "name": "stdout",
          "text": [
            "Précision du modèle: 0.7932960893854749\n",
            "Log Loss: 7.450364108364997\n"
          ]
        }
      ]
    }
  ]
}